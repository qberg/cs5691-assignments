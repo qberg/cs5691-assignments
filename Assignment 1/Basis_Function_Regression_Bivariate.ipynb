{
 "cells": [
  {
   "cell_type": "code",
   "execution_count": 30,
   "metadata": {},
   "outputs": [],
   "source": [
    "import pandas as pd\n",
    "import numpy as np\n",
    "from numpy import linalg as LA\n",
    "import matplotlib.font_manager\n",
    "import matplotlib.pyplot as plt\n",
    "from mpl_toolkits import mplot3d  \n",
    "import seaborn as sns  #A statistical plotting library\n",
    "from sklearn.cluster import KMeans\n",
    "from math import comb\n",
    "from sklearn.preprocessing import PolynomialFeatures\n",
    "#from kneed import KneeLocator\n",
    "from mayavi import mlab\n",
    "plt.style.use('seaborn')\n",
    "np.random.seed(42)"
   ]
  },
  {
   "cell_type": "code",
   "execution_count": 2,
   "metadata": {},
   "outputs": [
    {
     "data": {
      "text/plain": [
       "(2000, 4)"
      ]
     },
     "execution_count": 2,
     "metadata": {},
     "output_type": "execute_result"
    }
   ],
   "source": [
    "DF = pd.read_csv('function1_2d.csv')\n",
    "DF.shape"
   ]
  },
  {
   "cell_type": "code",
   "execution_count": 3,
   "metadata": {},
   "outputs": [],
   "source": [
    "#Defining a class to process and divide the dataframe in to the req. numpy form.\n",
    "class pro_split_df:\n",
    "    def __init__(self,df,batch_size):\n",
    "        self.df   = df                 #The original dataframe.\n",
    "        self.batch_size = batch_size   #Number of samples to be choosen from the dataframe.\n",
    "        \n",
    "        \n",
    "    #A function to convert dataframe in to numpy array.\n",
    "    #Training data set input vectors is stored in a matrix of dim Nxd. d -> no. of features, N -> No. of examples\n",
    "    def df_to_np(self,dat_fr):\n",
    "        In_df = dat_fr.loc[:,['x1','x2']]    #Choosing the columns belonging to the input feature vectors.\n",
    "        L_df  = dat_fr.loc[:,['y']]          #Choosing the columns belonging to the labels.\n",
    "        return In_df.to_numpy(),L_df.to_numpy()\n",
    "    \n",
    "    #A function for Random row selection of required batch size of a Pandas dataframe\n",
    "    def Rand_Choose(self):\n",
    "        return self.df.sample(n = self.batch_size, random_state=42)\n",
    "    \n",
    "    \n",
    "    def df_split(self,df):\n",
    "        #Splits the array in to 70,20,10.\n",
    "        return np.split(df,[int(.7*len(df)), int(.8*len(df))])\n",
    "    \n",
    "    #A function to split the batches in to training and data.   \n",
    "    def tr_val_test_split(self):\n",
    "        dat_fr = self.Rand_Choose()        #Randomly choosing batchsize number of samples from the org. dataframe.\n",
    "        tr_df,ts_df,val_df = self.df_split(dat_fr) #Splits the datframe in to train, val and test.\n",
    "        x_tr,y_tr = self.df_to_np(tr_df)      #conversion to numpy\n",
    "        x_val,y_val = self.df_to_np(val_df)\n",
    "        x_test,y_test = self.df_to_np(ts_df)\n",
    "        return x_tr,x_val,x_test,y_tr,y_val,y_test\n",
    "        \n",
    "    "
   ]
  },
  {
   "cell_type": "code",
   "execution_count": 43,
   "metadata": {
    "scrolled": false
   },
   "outputs": [],
   "source": [
    "#Dividing the datset in to batches of 50,200 and 500.\n",
    "#N=50\n",
    "batch50 = pro_split_df(DF,50)  #An instace of class sep_data.\n",
    "x_tr50,x_val50,x_test50,y_tr50,y_val50,y_test50 = batch50.tr_val_test_split()\n",
    "\n",
    "#N=200\n",
    "batch200 = pro_split_df(DF,200)  #An instace of class sep_data.\n",
    "x_tr200,x_val200,x_test200,y_tr200,y_val200,y_test200 = batch200.tr_val_test_split()\n",
    "\n",
    "#N=500\n",
    "batch500 = pro_split_df(DF,500)  #An instace of class sep_data.\n",
    "x_tr500,x_val500,x_test500,y_tr500,y_val500,y_test500 = batch500.tr_val_test_split()\n",
    "#N=2000\n",
    "batch2000 = pro_split_df(DF,2000)\n",
    "x_tr2000,x_val2000,x_test2000,y_tr2000,y_val2000,y_test2000 = batch2000.tr_val_test_split()\n",
    "\n",
    "\n",
    "# fig,(ax1,ax2) = plt.subplots(figsize=(10,8),nrows=2,ncols=1)\n",
    "# ax1.scatter(x_tr500[:,0],x_tr500[:,1],c='g')\n",
    "# ax1.set_xlabel('x1')\n",
    "# ax1.set_ylabel('x2')\n",
    "# plt.tight_layout()\n",
    "# plt.show()\n"
   ]
  },
  {
   "cell_type": "code",
   "execution_count": 105,
   "metadata": {},
   "outputs": [],
   "source": [
    "#%%writefile Linear_Regression_Class.py \n",
    "#Defining a class that given our choice of basis function returns the optimal paramters.\n",
    "#Polynomial and Gaussian Basis for the regression task at hand is employed.\n",
    "\n",
    "class Do_Regression:\n",
    "    #This class will return the optimal paramters by using the basis function of our choice.\n",
    "    def __init__(self,X,y,Gb_Hp,Pb_Hp,basisname,regularisation):\n",
    "        self.X = X  #Input vectors of training dataset as a numpy array Nxd.\n",
    "        self.y = y\n",
    "        self.Gb_Hp = Gb_Hp\n",
    "        self.D = None  #An hyperparameter which detrmines the spread of gaussian basis functions.\n",
    "        self.s = None  #An hyperparameter which detrmines the spread of gaussian basis functions.\n",
    "        self.Mean_Mat = None     #The mean vector array-(D-1)xd. Each row represents a mean vector.\n",
    "        self.Pb_Hp = Pb_Hp  #List of hyper\n",
    "        self.Erms = None\n",
    "        self.phi = None     #Attribute used to store the design matrix used for testing\n",
    "        self.pred =None     #Attribute to store the prediction values\n",
    "        self.basisname = basisname\n",
    "        self.hp_comb_gbf = None  #An attribute for the combination of hyperparameters.\n",
    "        self.phi_bar = None \n",
    "        self.regularisation = regularisation\n",
    "           \n",
    "    #KMeans implementation for finding the mean of the various basis functions initially.\n",
    "    #Number of clusters eqauls the number of gaussian basis functions being used.\n",
    "    def K_Clustering(self):\n",
    "        #Dictionary of the arguments for scikit.KMeans\n",
    "        KMeans_args = {\n",
    "        \"init\" :\"random\",\n",
    "        \"n_init\" : 10,\n",
    "        \"max_iter\" : 300,\n",
    "        \"random_state\" : 0,\n",
    "        } \n",
    "        k = self.D - 1   #Number of clusters equals D-1.\n",
    "        kmeans =  KMeans(n_clusters = k , **KMeans_args)\n",
    "        kmeans.fit(self.X)\n",
    "        labels = kmeans.labels_\n",
    "        #The mean vector matrix is stored \n",
    "        self.Mean_Mat = kmeans.cluster_centers_\n",
    "        \n",
    "        \n",
    "    def Gaussian_hyperparamter_comb(self):\n",
    "        hp_list_gbf = list(self.Gb_Hp.values()) # a list of all possible combinations of hyperparameters\n",
    "        self.hp_comb_gbf = [(d,s) for d in hp_list_gbf[0] for s in hp_list_gbf[1]]    \n",
    "        \n",
    " \n",
    "    def Gaussian_DesMat(self):\n",
    "        #Returns the output design matrix made of gbf of the input x.\n",
    "        phi_gauss = np.zeros((len(self.X), self.D))\n",
    "        #Finding the mean of clusters,\n",
    "        self.K_Clustering()   #Calling this function will update the attribute associated with Mean Matrix.\n",
    "        \n",
    "        ones_vector = np.ones((len(self.X))) #To be added to the first column of the matrix\n",
    "        phi_gauss[:,0] = ones_vector\n",
    "        sigma2 = self.s**2\n",
    "        expo = ( -2*(self.X@(self.Mean_Mat.T)) + np.reshape(np.sum(self.X**2, axis=1), (len(self.X), -1)) ) + np.sum(self.Mean_Mat**2, axis=1)\n",
    "        phi_gauss[:,1:] = np.exp(-expo/sigma2)\n",
    "        return phi_gauss\n",
    "    \n",
    "    def GaussDM_test_Data(self):\n",
    "        #Returns the output design matrix made of gbf of the input x of test data.\n",
    "        phi_gauss = np.zeros((len(self.X), self.D))\n",
    "        ones_vector = np.ones((len(self.X))) #To be added to the first column of the matrix\n",
    "        phi_gauss[:,0] = ones_vector\n",
    "        sigma2 = self.s**2\n",
    "        expo = ( -2*(self.X@(self.Mean_Mat.T)) + np.reshape(np.sum(self.X**2, axis=1), (len(self.X), -1)) ) + np.sum(self.Mean_Mat**2, axis=1)\n",
    "        phi_gauss[:,1:] = np.exp(-expo/sigma2)\n",
    "        return phi_gauss\n",
    "        \n",
    "       \n",
    "    \n",
    "    def Poly_DesMat(self):\n",
    "        #Returns the output design matrix made of gbf of the input x and degree m.\n",
    "        d = len(x[0])\n",
    "        #m is the maximum degree of monomials being used for polynomial basis function.\n",
    "        poly = PolynomialFeatures(degree = self.m)  #Using the inbuilt function from sklearn.\n",
    "        phi_poly = poly.fit_transform(self.X)\n",
    "        \n",
    "        \n",
    "        #Plotting for better understanding\n",
    "#         phi_flat = phi_poly.flatten()\n",
    "#         xarr = np.arange(1,phi_flat.size+1,1)\n",
    "#         plt.scatter(xarr,phi_flat)\n",
    "#         plt.show()\n",
    "        return phi_poly\n",
    "    \n",
    "    def get_design_mat(self):\n",
    "        if self.basisname == 'Gaussian':\n",
    "            PHI = self.Gaussian_DesMat()   #Updates the design matrix with gaussian basis functions.\n",
    "        if self.basisname == 'Polynomial':\n",
    "            PHI = self.Poly_DesMat()        #Updates the design matrix with polynomial basis functions.\n",
    "#         if basisname == 'Linear':\n",
    "#             PHI = self.X\n",
    "        return PHI \n",
    "    \n",
    "    def Reg_term(self,MU):\n",
    "        deg = self.D-1\n",
    "        sigma2 = self.s**2\n",
    "        self.phi_bar = np.eye(self.D)   #For Quadratic regualriser.\n",
    "        if self.regularisation == 'Tikhonov':\n",
    "            for i in range(deg):\n",
    "                for j in range(i):\n",
    "                    self.phi_bar[i+1][j+1] = np.exp(-np.sum((MU[j]-MU[i])**2)/sigma2)\n",
    "                    self.phi_bar[j+1][i+1] = self.phi_bar[i+1][j+1]\n",
    "#             expo = np.reshape(np.sum(MU**2,axis=1),(len(MU),-1)) + np.sum(MU**2,axis=1) - 2*(MU@MU.T)\n",
    "#             self.phi_bar = np.exp(-expo/2*self.s*self.s)\n",
    "        \n",
    "        \n",
    "        \n",
    "    \n",
    "    def LinearRegressor(self,lam):  \n",
    "        #Takes as input the labels of the training data and the hyperparamter lambda\n",
    "        erms_tr ={}\n",
    "        W = {}\n",
    "        MU ={}\n",
    "        if self.basisname == 'Gaussian':\n",
    "            self.Gaussian_hyperparamter_comb()  #Updates the attribute for the combination of hyperparameters.\n",
    "            for (dim,sigma) in self.hp_comb_gbf:\n",
    "                self.D,self.s = dim,sigma        #Updates the attribute for hyperparameters of gbf\n",
    "                PHI = self.get_design_mat()\n",
    "                MU[str(dim)+' '+ str(sigma)] = self.Mean_Mat\n",
    "                self.Reg_term(self.Mean_Mat)                  #Updates the attribute self.phi_bar\n",
    "                w = LA.inv(PHI.T@PHI + lam*self.phi_bar)@(PHI.T@self.y)\n",
    "                #Error for training data\n",
    "                erms_tr[str(dim)+' '+ str(sigma)] = self.erms(w,0)\n",
    "                W[str(dim)+ ' ' + str(sigma)] = w\n",
    "            \n",
    "        if self.basisname == 'Polynomial':\n",
    "            for degree in Pb_Hp:\n",
    "                self.m = degree\n",
    "                PHI = self.get_design_mat()\n",
    "                self.Reg_term()   #Updates the attribute self.phi_bar\n",
    "                w = np.linalg.inv(PHI.T@PHI + lam*self.phi_bar)@(PHI.T@self.y)\n",
    "                W['degree'] = w\n",
    "        return W,MU,erms_tr\n",
    "    \n",
    "    \n",
    "    def erms(self,w,f):\n",
    "        if f==1:  #for testing\n",
    "            self.phi = self.GaussDM_test_Data()\n",
    "        if f==0:  #For training\n",
    "            self.phi = self.get_design_mat()\n",
    "        self.pred = self.phi@w\n",
    "        error_arr = (self.pred - self.y)\n",
    "        #plt.scatter(self.y,self.pred,c='g')\n",
    "        return LA.norm(error_arr)/np.sqrt(len(self.y))\n",
    "#     \n",
    "    \n",
    "    \n",
    "    def test_set_error(self,W,MU):  #W is the optimal parameters estimated from training\n",
    "        #Run this function only after training and on testing on validation and test dataset.\n",
    "        erms_test = {}\n",
    "        self.Gaussian_hyperparamter_comb()\n",
    "        for (dim,sigma) in self.hp_comb_gbf:\n",
    "            self.D,self.s = dim,sigma\n",
    "            w = W[str(dim)+' '+ str(sigma)]\n",
    "            mu = MU[str(dim)+' '+ str(sigma)]\n",
    "            self.Mean_Mat = mu\n",
    "            erms_test[str(dim)+' '+ str(sigma)] = self.erms(w,1)\n",
    "        return erms_test\n",
    "    \n",
    "    def plot_pred_vs_true(self,w,mu,sig):\n",
    "        true_val = self.y\n",
    "        self.s = sig\n",
    "        self.D = len(w)\n",
    "        self.Mean_Mat = mu\n",
    "        phi = self.GaussDM_test_Data()\n",
    "        pred = phi@w\n",
    "        fig,ax = plt.subplots(figsize=(8,6))\n",
    "        ax.scatter(true_val,pred,c='b')\n",
    "        ax.set_xlabel('true value')\n",
    "        ax.set_ylabel('predicted value')\n",
    "        ax.set_title('Plot for True Value vs Predicted Value of the best model for test dataset with E_rms = 134.45')\n",
    "        plt.show()\n",
    "\n",
    "        "
   ]
  },
  {
   "cell_type": "code",
   "execution_count": 106,
   "metadata": {},
   "outputs": [],
   "source": [
    "#Hyperparamters for gaussian and polynomial.\n",
    "Gb_Hp = {'Dim': [25,50,75,100,340], 'sigma' : [1,10,50]}\n",
    "Pb_Hp = [2,3,6,9] \n",
    "#An instance of the class regression for training.\n",
    "do_reg = Do_Regression(x_tr500,y_tr500,Gb_Hp,Pb_Hp,'Gaussian','Quadratic')  #An instance for the regression class.\n"
   ]
  },
  {
   "cell_type": "code",
   "execution_count": 107,
   "metadata": {
    "scrolled": true
   },
   "outputs": [],
   "source": [
    "#Optimal Parameters, mean and error as a dic, estimated using \n",
    "#training data of batch 500 and lambda = 0 using gbf.\n",
    "#Model is being trained with no regularisation.\n",
    "W_opt,MU_opt,erms_tr_data = do_reg.LinearRegressor(0) \n"
   ]
  },
  {
   "cell_type": "code",
   "execution_count": 108,
   "metadata": {
    "scrolled": false
   },
   "outputs": [
    {
     "data": {
      "text/plain": [
       "{'25 1': 34095.494686217564,\n",
       " '25 10': 3079.371660135906,\n",
       " '25 50': 196543.08688426978,\n",
       " '50 1': 27069.058398069203,\n",
       " '50 10': 333.07885206654373,\n",
       " '50 50': 701035.3979131614,\n",
       " '75 1': 22878.4620354193,\n",
       " '75 10': 118.92448616707225,\n",
       " '75 50': 384949.9066247332,\n",
       " '100 1': 18762.38702030317,\n",
       " '100 10': 361624.2434747671,\n",
       " '100 50': 722691.0098886471,\n",
       " '340 1': 1007.1582536619655,\n",
       " '340 10': 2748197.8587605567,\n",
       " '340 50': 522712.22354947234}"
      ]
     },
     "execution_count": 108,
     "metadata": {},
     "output_type": "execute_result"
    }
   ],
   "source": [
    "erms_tr_data"
   ]
  },
  {
   "cell_type": "code",
   "execution_count": 109,
   "metadata": {
    "scrolled": false
   },
   "outputs": [
    {
     "data": {
      "text/plain": [
       "{'25 1': 64240.92286294608,\n",
       " '25 10': 4120.376944837653,\n",
       " '25 50': 201337.65009581094,\n",
       " '50 1': 43948.50916755136,\n",
       " '50 10': 487.78710378390804,\n",
       " '50 50': 686256.7398583073,\n",
       " '75 1': 35610.43065848766,\n",
       " '75 10': 147.3034244802795,\n",
       " '75 50': 394207.89239694976,\n",
       " '100 1': 33902.31040040158,\n",
       " '100 10': 351136.37994587293,\n",
       " '100 50': 709933.1032306574,\n",
       " '340 1': 25161.390393252586,\n",
       " '340 10': 3301376.465094139,\n",
       " '340 50': 529384.4123755863}"
      ]
     },
     "execution_count": 109,
     "metadata": {},
     "output_type": "execute_result"
    }
   ],
   "source": [
    "#Validation dataset error estimation for finding the optimal values of hyperparameters.\n",
    "val_reg = Do_Regression(x_val500,y_val500,Gb_Hp,Pb_Hp,'Gaussian','Quadratic')\n",
    "erms_val_data = val_reg.test_set_error(W_opt,MU_opt)\n",
    "# erms_val_df = pd.DataFrame(list(erms_val_data.items()),columns = ['Degree and Sigma','Erms'])\n",
    "erms_val_data"
   ]
  },
  {
   "cell_type": "code",
   "execution_count": 96,
   "metadata": {},
   "outputs": [
    {
     "data": {
      "text/plain": [
       "(74, 2)"
      ]
     },
     "execution_count": 96,
     "metadata": {},
     "output_type": "execute_result"
    }
   ],
   "source": [
    "mu_plot.shape"
   ]
  },
  {
   "cell_type": "markdown",
   "metadata": {},
   "source": [
    "### Dimension = 75 and sigma = 10 is found to be the best model. Overfitting studies are being done on Dimension = 340 and sigma =1 as the error varies significantly for training and validation."
   ]
  },
  {
   "cell_type": "code",
   "execution_count": 90,
   "metadata": {},
   "outputs": [
    {
     "data": {
      "image/png": "[encoded data removed]",
      "text/plain": [
       "<Figure size 576x432 with 1 Axes>"
      ]
     },
     "metadata": {},
     "output_type": "display_data"
    },
    {
     "data": {
      "text/plain": [
       "<Figure size 576x396 with 0 Axes>"
      ]
     },
     "metadata": {},
     "output_type": "display_data"
    }
   ],
   "source": [
    "#The parameters of the best model that needs plotting.\n",
    "w_plot = W_opt['75 10']\n",
    "mu_plot = MU_opt['75 10']\n",
    "\n",
    "#Plotting true vs prediction for training dataset without regularization.\n",
    "do_reg.plot_pred_vs_true(w_plot,mu_plot,10)\n",
    "plt.savefig('batch500_train.png', dpi=300, bbox_inches='tight')"
   ]
  },
  {
   "cell_type": "code",
   "execution_count": 98,
   "metadata": {},
   "outputs": [
    {
     "data": {
      "image/png": "[encoded data removed]",
      "text/plain": [
       "<Figure size 576x432 with 1 Axes>"
      ]
     },
     "metadata": {},
     "output_type": "display_data"
    },
    {
     "data": {
      "text/plain": [
       "<Figure size 576x396 with 0 Axes>"
      ]
     },
     "metadata": {},
     "output_type": "display_data"
    }
   ],
   "source": [
    "val_reg.plot_pred_vs_true(w_plot,mu_plot,10)"
   ]
  },
  {
   "cell_type": "code",
   "execution_count": 110,
   "metadata": {},
   "outputs": [
    {
     "data": {
      "text/plain": [
       "{'25 1': 41614.001550152825,\n",
       " '25 10': 3173.288741883285,\n",
       " '25 50': 208046.17375158335,\n",
       " '50 1': 55065.030882193605,\n",
       " '50 10': 446.7785690636309,\n",
       " '50 50': 672826.5861592834,\n",
       " '75 1': 47958.67442382631,\n",
       " '75 10': 134.45128353056708,\n",
       " '75 50': 405546.52013881016,\n",
       " '100 1': 36547.27704069934,\n",
       " '100 10': 371242.19411755144,\n",
       " '100 50': 703451.8510677284,\n",
       " '340 1': 19797.07054725882,\n",
       " '340 10': 3414949.9662941615,\n",
       " '340 50': 532962.5960586105}"
      ]
     },
     "execution_count": 110,
     "metadata": {},
     "output_type": "execute_result"
    }
   ],
   "source": [
    "#Test dataset error estimation.\n",
    "test_reg = Do_Regression(x_test500,y_test500,Gb_Hp,Pb_Hp,'Gaussian','Quadratic')\n",
    "erms_test_data = test_reg.test_set_error(W_opt,MU_opt)\n",
    "# erms_val_df = pd.DataFrame(list(erms_val_data.items()),columns = ['Degree and Sigma','Erms'])\n",
    "erms_test_data"
   ]
  },
  {
   "cell_type": "code",
   "execution_count": 111,
   "metadata": {},
   "outputs": [
    {
     "data": {
      "image/png": "[encoded data removed]",
      "text/plain": [
       "<Figure size 576x432 with 1 Axes>"
      ]
     },
     "metadata": {},
     "output_type": "display_data"
    }
   ],
   "source": [
    "test_reg.plot_pred_vs_true(w_plot,mu_plot,10)"
   ]
  },
  {
   "cell_type": "code",
   "execution_count": 112,
   "metadata": {
    "scrolled": false
   },
   "outputs": [
    {
     "data": {
      "text/plain": [
       "{'1e-06': {'340 1': 1007.2510929437628},\n",
       " '0.0001': {'340 1': 1008.8371850745775},\n",
       " '0.01': {'340 1': 1173.2543730474981},\n",
       " '1.0': {'340 1': 11540.374635193548},\n",
       " '0': {'340 1': 1007.1582536619655},\n",
       " '10': {'340 1': 28496.70956110311},\n",
       " '10000.0': {'340 1': 51184.98985586116},\n",
       " '1000000.0': {'340 1': 52047.190616761225}}"
      ]
     },
     "execution_count": 112,
     "metadata": {},
     "output_type": "execute_result"
    }
   ],
   "source": [
    "#Effect of quadratic regularisation on dimesnsion 100 and sigma =1\n",
    "#Fitting the training datasets\n",
    "Gb_Hp_reg = {'dim':[340],'sigma':[1]}\n",
    "regl_tr_reg = Do_Regression(x_tr500,y_tr500,Gb_Hp_reg,Pb_Hp,'Gaussian','Quadratic')\n",
    "lam_lst = [10e-07,10e-05,10e-03,10e-01,0,10,10e+3,10e+5]\n",
    "W_opt_reg ={}\n",
    "MU_opt_reg ={}\n",
    "erms_tr_reg ={}\n",
    "for lam in lam_lst:\n",
    "    W_opt_reg[str(lam)],MU_opt_reg[str(lam)],erms_tr_reg[str(lam)] = regl_tr_reg.LinearRegressor(lam) \n",
    "erms_tr_reg"
   ]
  },
  {
   "cell_type": "code",
   "execution_count": 113,
   "metadata": {},
   "outputs": [
    {
     "data": {
      "text/plain": [
       "{'1e-06': {'340 1': 25170.149316570787},\n",
       " '0.0001': {'340 1': 25204.514576970752},\n",
       " '0.01': {'340 1': 25298.833579924107},\n",
       " '1.0': {'340 1': 29591.115329467204},\n",
       " '0': {'340 1': 25161.390393252586},\n",
       " '10': {'340 1': 38521.82204173064},\n",
       " '10000.0': {'340 1': 59196.6600493052},\n",
       " '1000000.0': {'340 1': 60057.041078228875}}"
      ]
     },
     "execution_count": 113,
     "metadata": {},
     "output_type": "execute_result"
    }
   ],
   "source": [
    "#Validation dataset error estimation for varying lambda\n",
    "regl_val_reg = Do_Regression(x_val500,y_val500,Gb_Hp_reg,Pb_Hp,'Gaussian','Quadratic')\n",
    "erms_val_qreg={}\n",
    "for lam in lam_lst:\n",
    "    erms_val_qreg[str(lam)] = regl_val_reg.test_set_error(W_opt_reg[str(lam)],MU_opt_reg[str(lam)])\n",
    "# erms_val_df = pd.DataFrame(list(erms_val_data.items()),columns = ['Degree and Sigma','Erms'])\n",
    "erms_val_qreg"
   ]
  },
  {
   "cell_type": "code",
   "execution_count": 114,
   "metadata": {},
   "outputs": [
    {
     "data": {
      "text/plain": [
       "{'1e-06': {'340 1': 19790.77163341803},\n",
       " '0.0001': {'340 1': 19747.409990274005},\n",
       " '0.01': {'340 1': 19830.619547854283},\n",
       " '1.0': {'340 1': 26288.85846129357},\n",
       " '0': {'340 1': 19797.07054725882},\n",
       " '10': {'340 1': 37822.33871629556},\n",
       " '10000.0': {'340 1': 60804.30029816793},\n",
       " '1000000.0': {'340 1': 61707.628641813775}}"
      ]
     },
     "execution_count": 114,
     "metadata": {},
     "output_type": "execute_result"
    }
   ],
   "source": [
    "#Validation dataset error estimation for varying lambda\n",
    "regl_test_reg = Do_Regression(x_test500,y_test500,Gb_Hp_reg,Pb_Hp,'Gaussian','Quadratic')\n",
    "erms_test_qreg={}\n",
    "for lam in lam_lst:\n",
    "    erms_test_qreg[str(lam)] = regl_test_reg.test_set_error(W_opt_reg[str(lam)],MU_opt_reg[str(lam)])\n",
    "# erms_val_df = pd.DataFrame(list(erms_val_data.items()),columns = ['Degree and Sigma','Erms'])\n",
    "erms_test_qreg"
   ]
  },
  {
   "cell_type": "code",
   "execution_count": 115,
   "metadata": {},
   "outputs": [
    {
     "data": {
      "text/plain": [
       "{'1e-06': {'340 1': 1007.1582909220164},\n",
       " '0.0001': {'340 1': 1007.3876906520843},\n",
       " '0.01': {'340 1': 1046.360813998784},\n",
       " '1.0': {'340 1': 14205.18953262106},\n",
       " '0': {'340 1': 1007.1582536619655},\n",
       " '10': {'340 1': 31613.720387947735},\n",
       " '100.0': {'340 1': 37413.07491945173},\n",
       " '10000.0': {'340 1': 51192.84533600013},\n",
       " '1000000.0': {'340 1': 52047.272258910394}}"
      ]
     },
     "execution_count": 115,
     "metadata": {},
     "output_type": "execute_result"
    }
   ],
   "source": [
    "#Effect of Tikhonov regularisation on dimesnsion 100 and sigma =1\n",
    "tregl_tr_reg = Do_Regression(x_tr500,y_tr500,Gb_Hp_reg,Pb_Hp,'Gaussian','Tikhonov')\n",
    "lam_lst = [10e-07,10e-05,10e-03,10e-01,0,10,10e+1,10e+3,10e+5]\n",
    "W_opt_treg ={}\n",
    "MU_opt_treg ={}\n",
    "erms_tr_treg ={}\n",
    "for lam in lam_lst:\n",
    "    W_opt_treg[str(lam)],MU_opt_treg[str(lam)],erms_tr_treg[str(lam)] = tregl_tr_reg.LinearRegressor(lam) \n",
    "erms_tr_treg"
   ]
  },
  {
   "cell_type": "code",
   "execution_count": 116,
   "metadata": {
    "scrolled": true
   },
   "outputs": [
    {
     "data": {
      "text/plain": [
       "{'1e-06': {'340 1': 25161.153961318283},\n",
       " '0.0001': {'340 1': 25157.006580912905},\n",
       " '0.01': {'340 1': 25431.929262863356},\n",
       " '1.0': {'340 1': 30882.727421515378},\n",
       " '0': {'340 1': 25161.390393252586},\n",
       " '10': {'340 1': 40104.34212028504},\n",
       " '100.0': {'340 1': 44542.45848712857},\n",
       " '10000.0': {'340 1': 59200.74873625448},\n",
       " '1000000.0': {'340 1': 60057.08405728594}}"
      ]
     },
     "execution_count": 116,
     "metadata": {},
     "output_type": "execute_result"
    }
   ],
   "source": [
    "#Validation dataset error estimation for varying lambda\n",
    "tik_regl_val_reg = Do_Regression(x_val500,y_val500,Gb_Hp_reg,Pb_Hp,'Gaussian','Tikhonov')\n",
    "erms_val_treg={}\n",
    "for lam in lam_lst:\n",
    "    erms_val_treg[str(lam)] = tik_regl_val_reg.test_set_error(W_opt_treg[str(lam)],MU_opt_treg[str(lam)])\n",
    "# erms_val_df = pd.DataFrame(list(erms_val_data.items()),columns = ['Degree and Sigma','Erms'])\n",
    "erms_val_treg"
   ]
  },
  {
   "cell_type": "code",
   "execution_count": 117,
   "metadata": {},
   "outputs": [
    {
     "data": {
      "text/plain": [
       "{'1e-06': {'340 1': 19795.775133363633},\n",
       " '0.0001': {'340 1': 19708.056416923573},\n",
       " '0.01': {'340 1': 19708.858577334042},\n",
       " '1.0': {'340 1': 27630.92906760994},\n",
       " '0': {'340 1': 19797.07054725882},\n",
       " '10': {'340 1': 39308.62094735066},\n",
       " '100.0': {'340 1': 44656.90076074999},\n",
       " '10000.0': {'340 1': 60807.39548320332},\n",
       " '1000000.0': {'340 1': 61707.66171510584}}"
      ]
     },
     "execution_count": 117,
     "metadata": {},
     "output_type": "execute_result"
    }
   ],
   "source": [
    "#Validation dataset error estimation for varying lambda\n",
    "tik_regl_test_reg = Do_Regression(x_test500,y_test500,Gb_Hp_reg,Pb_Hp,'Gaussian','Tikhonov')\n",
    "erms_test_treg={}\n",
    "for lam in lam_lst:\n",
    "    erms_test_treg[str(lam)] = tik_regl_test_reg.test_set_error(W_opt_treg[str(lam)],MU_opt_treg[str(lam)])\n",
    "# erms_val_df = pd.DataFrame(list(erms_val_data.items()),columns = ['Degree and Sigma','Erms'])\n",
    "erms_test_treg"
   ]
  },
  {
   "cell_type": "code",
   "execution_count": null,
   "metadata": {},
   "outputs": [],
   "source": []
  }
 ],
 "metadata": {
  "kernelspec": {
   "display_name": "Python 3",
   "language": "python",
   "name": "python3"
  },
  "language_info": {
   "codemirror_mode": {
    "name": "ipython",
    "version": 3
   },
   "file_extension": ".py",
   "mimetype": "text/x-python",
   "name": "python",
   "nbconvert_exporter": "python",
   "pygments_lexer": "ipython3",
   "version": "3.8.8"
  }
 },
 "nbformat": 4,
 "nbformat_minor": 4
}
